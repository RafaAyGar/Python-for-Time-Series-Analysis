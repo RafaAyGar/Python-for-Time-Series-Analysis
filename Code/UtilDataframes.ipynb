{
 "cells": [
  {
   "cell_type": "code",
   "execution_count": 2,
   "id": "bf5a23f4",
   "metadata": {},
   "outputs": [],
   "source": [
    "import pandas as pd\n",
    "from datetime import datetime"
   ]
  },
  {
   "cell_type": "markdown",
   "id": "62c09762",
   "metadata": {},
   "source": [
    "# Transforma una columna de timestamps en formato datetime y la pone como el index del df"
   ]
  },
  {
   "cell_type": "code",
   "execution_count": 4,
   "id": "20a44a02",
   "metadata": {},
   "outputs": [],
   "source": [
    "def cvtTimestampIntoDatetimeIndex(df, timestampColumnName):\n",
    "    df[timestampColumnName] = df[timestampColumnName].apply(lambda t : datetime.fromtimestamp(t))\n",
    "    df.set_index(timestampColumnName, inplace=True)"
   ]
  }
 ],
 "metadata": {
  "kernelspec": {
   "display_name": "Python 3 (ipykernel)",
   "language": "python",
   "name": "python3"
  },
  "language_info": {
   "codemirror_mode": {
    "name": "ipython",
    "version": 3
   },
   "file_extension": ".py",
   "mimetype": "text/x-python",
   "name": "python",
   "nbconvert_exporter": "python",
   "pygments_lexer": "ipython3",
   "version": "3.9.7"
  }
 },
 "nbformat": 4,
 "nbformat_minor": 5
}
