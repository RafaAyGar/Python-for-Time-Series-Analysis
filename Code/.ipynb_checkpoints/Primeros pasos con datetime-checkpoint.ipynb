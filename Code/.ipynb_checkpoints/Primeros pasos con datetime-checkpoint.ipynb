{
 "cells": [
  {
   "cell_type": "markdown",
   "id": "3ec36442",
   "metadata": {},
   "source": [
    "# Trabajando con la clase datetime"
   ]
  },
  {
   "cell_type": "code",
   "execution_count": 1,
   "id": "5facbc85",
   "metadata": {},
   "outputs": [],
   "source": [
    "from datetime import datetime"
   ]
  },
  {
   "cell_type": "code",
   "execution_count": 3,
   "id": "6cc971b4",
   "metadata": {},
   "outputs": [
    {
     "data": {
      "text/plain": [
       "datetime.datetime(2021, 7, 29, 0, 0)"
      ]
     },
     "execution_count": 3,
     "metadata": {},
     "output_type": "execute_result"
    }
   ],
   "source": [
    "year = 2021\n",
    "month = 7\n",
    "day = 29\n",
    "\n",
    "my_date = datetime(year, month, day)\n",
    "my_date"
   ]
  },
  {
   "cell_type": "code",
   "execution_count": 7,
   "id": "021c9d86",
   "metadata": {},
   "outputs": [
    {
     "name": "stdout",
     "output_type": "stream",
     "text": [
      "Year = 2021\n",
      "Minuto = 0001-01-01 00:00:00\n"
     ]
    },
    {
     "data": {
      "text/plain": [
       "datetime.datetime(2021, 7, 29, 20, 35, 15)"
      ]
     },
     "execution_count": 7,
     "metadata": {},
     "output_type": "execute_result"
    }
   ],
   "source": [
    "hour = 20\n",
    "minit = 35\n",
    "second = 15\n",
    "\n",
    "my_date_2 = datetime(year, month, day, hour, minit, second)\n",
    "print(f'Year = {my_date_2.year}')\n",
    "print(f'Minuto = {my_date_2.min}')\n",
    "my_date_2"
   ]
  },
  {
   "cell_type": "markdown",
   "id": "4b2779c8",
   "metadata": {},
   "source": [
    "# Creando array de datetimes con Numpy"
   ]
  },
  {
   "cell_type": "code",
   "execution_count": 11,
   "id": "38e1abad",
   "metadata": {},
   "outputs": [
    {
     "data": {
      "text/plain": [
       "array(['2020-03-05', '2021-08-17', '2019-12-25'], dtype='datetime64[D]')"
      ]
     },
     "execution_count": 11,
     "metadata": {},
     "output_type": "execute_result"
    }
   ],
   "source": [
    "import numpy as np\n",
    "\n",
    "np.array(['2020-03-05', '2021-08-17', '2019-12-25'], dtype='datetime64')"
   ]
  },
  {
   "cell_type": "markdown",
   "id": "af34a180",
   "metadata": {},
   "source": [
    "### Podemos quedarnos sólo con la parte de la fecha que nos interesa"
   ]
  },
  {
   "cell_type": "markdown",
   "id": "a46b2787",
   "metadata": {},
   "source": [
    "**Para quedarnos con el año y el mes**"
   ]
  },
  {
   "cell_type": "code",
   "execution_count": 13,
   "id": "5fc6819a",
   "metadata": {},
   "outputs": [
    {
     "data": {
      "text/plain": [
       "array(['2020-03', '2021-08', '2019-12'], dtype='datetime64[M]')"
      ]
     },
     "execution_count": 13,
     "metadata": {},
     "output_type": "execute_result"
    }
   ],
   "source": [
    "np.array(['2020-03-05', '2021-08-17', '2019-12-25'], dtype='datetime64[M]')"
   ]
  },
  {
   "cell_type": "markdown",
   "id": "4515cdac",
   "metadata": {},
   "source": [
    "**Para quedarnos sólo con el año**"
   ]
  },
  {
   "cell_type": "code",
   "execution_count": 14,
   "id": "29fce6b2",
   "metadata": {},
   "outputs": [
    {
     "data": {
      "text/plain": [
       "array(['2020', '2021', '2019'], dtype='datetime64[Y]')"
      ]
     },
     "execution_count": 14,
     "metadata": {},
     "output_type": "execute_result"
    }
   ],
   "source": [
    "np.array(['2020-03-05', '2021-08-17', '2019-12-25'], dtype='datetime64[Y]')"
   ]
  },
  {
   "cell_type": "markdown",
   "id": "079cf846",
   "metadata": {},
   "source": [
    "# Utilizar el arange de numpy para crear un conjunto de fechas a partir de una fecha inicial y una final"
   ]
  },
  {
   "cell_type": "markdown",
   "id": "083874ba",
   "metadata": {},
   "source": [
    "**Vamos a crear un set de fechas que vayan desde el 10 de enero de 2021 hasta el 25 de agosto de 2021, saltando de 5 en 5 días**"
   ]
  },
  {
   "cell_type": "code",
   "execution_count": 15,
   "id": "17a71a6b",
   "metadata": {},
   "outputs": [
    {
     "data": {
      "text/plain": [
       "array(['2021-01-10', '2021-01-15', '2021-01-20', '2021-01-25',\n",
       "       '2021-01-30', '2021-02-04', '2021-02-09', '2021-02-14',\n",
       "       '2021-02-19', '2021-02-24', '2021-03-01', '2021-03-06',\n",
       "       '2021-03-11', '2021-03-16', '2021-03-21', '2021-03-26',\n",
       "       '2021-03-31', '2021-04-05', '2021-04-10', '2021-04-15',\n",
       "       '2021-04-20', '2021-04-25', '2021-04-30', '2021-05-05',\n",
       "       '2021-05-10', '2021-05-15', '2021-05-20', '2021-05-25',\n",
       "       '2021-05-30', '2021-06-04', '2021-06-09', '2021-06-14',\n",
       "       '2021-06-19', '2021-06-24', '2021-06-29', '2021-07-04',\n",
       "       '2021-07-09', '2021-07-14', '2021-07-19', '2021-07-24',\n",
       "       '2021-07-29', '2021-08-03', '2021-08-08', '2021-08-13',\n",
       "       '2021-08-18', '2021-08-23'], dtype='datetime64[D]')"
      ]
     },
     "execution_count": 15,
     "metadata": {},
     "output_type": "execute_result"
    }
   ],
   "source": [
    "initialDate = \"2021-01-10\"\n",
    "finalDate = \"2021-08-25\"\n",
    "np.arange(initialDate, finalDate, 5, dtype='datetime64[D]')"
   ]
  }
 ],
 "metadata": {
  "kernelspec": {
   "display_name": "Python 3 (ipykernel)",
   "language": "python",
   "name": "python3"
  },
  "language_info": {
   "codemirror_mode": {
    "name": "ipython",
    "version": 3
   },
   "file_extension": ".py",
   "mimetype": "text/x-python",
   "name": "python",
   "nbconvert_exporter": "python",
   "pygments_lexer": "ipython3",
   "version": "3.9.7"
  }
 },
 "nbformat": 4,
 "nbformat_minor": 5
}
