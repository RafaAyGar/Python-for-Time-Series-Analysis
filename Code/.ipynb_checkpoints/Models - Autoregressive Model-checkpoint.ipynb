{
 "cells": [
  {
   "cell_type": "code",
   "execution_count": 1,
   "id": "efa82797",
   "metadata": {},
   "outputs": [
    {
     "name": "stdout",
     "output_type": "stream",
     "text": [
      "importing Jupyter notebook from UtilDataframes.ipynb\n"
     ]
    }
   ],
   "source": [
    "import pandas as pd\n",
    "import matplotlib.pyplot as plt\n",
    "import import_ipynb\n",
    "from UtilDataframes import cvtTimestampIntoDatetimeIndex"
   ]
  },
  {
   "cell_type": "code",
   "execution_count": 2,
   "id": "3bb09257",
   "metadata": {},
   "outputs": [
    {
     "data": {
      "text/html": [
       "<div>\n",
       "<style scoped>\n",
       "    .dataframe tbody tr th:only-of-type {\n",
       "        vertical-align: middle;\n",
       "    }\n",
       "\n",
       "    .dataframe tbody tr th {\n",
       "        vertical-align: top;\n",
       "    }\n",
       "\n",
       "    .dataframe thead th {\n",
       "        text-align: right;\n",
       "    }\n",
       "</style>\n",
       "<table border=\"1\" class=\"dataframe\">\n",
       "  <thead>\n",
       "    <tr style=\"text-align: right;\">\n",
       "      <th></th>\n",
       "      <th>Unnamed: 0</th>\n",
       "      <th>timestamp</th>\n",
       "      <th>Asset_ID</th>\n",
       "      <th>Count</th>\n",
       "      <th>Open</th>\n",
       "      <th>High</th>\n",
       "      <th>Low</th>\n",
       "      <th>Close</th>\n",
       "      <th>Volume</th>\n",
       "      <th>VWAP</th>\n",
       "      <th>Target</th>\n",
       "    </tr>\n",
       "  </thead>\n",
       "  <tbody>\n",
       "    <tr>\n",
       "      <th>0</th>\n",
       "      <td>24096863</td>\n",
       "      <td>1631582460</td>\n",
       "      <td>1</td>\n",
       "      <td>1069.0</td>\n",
       "      <td>45287.741429</td>\n",
       "      <td>45314.95</td>\n",
       "      <td>45268.40</td>\n",
       "      <td>45298.868508</td>\n",
       "      <td>36.800881</td>\n",
       "      <td>45291.343025</td>\n",
       "      <td>-0.000032</td>\n",
       "    </tr>\n",
       "    <tr>\n",
       "      <th>1</th>\n",
       "      <td>24096877</td>\n",
       "      <td>1631582520</td>\n",
       "      <td>1</td>\n",
       "      <td>2577.0</td>\n",
       "      <td>45302.568571</td>\n",
       "      <td>45371.46</td>\n",
       "      <td>45294.02</td>\n",
       "      <td>45348.035714</td>\n",
       "      <td>69.452843</td>\n",
       "      <td>45323.250853</td>\n",
       "      <td>0.000480</td>\n",
       "    </tr>\n",
       "    <tr>\n",
       "      <th>2</th>\n",
       "      <td>24096891</td>\n",
       "      <td>1631582580</td>\n",
       "      <td>1</td>\n",
       "      <td>1471.0</td>\n",
       "      <td>45349.388571</td>\n",
       "      <td>45374.48</td>\n",
       "      <td>45311.00</td>\n",
       "      <td>45333.891429</td>\n",
       "      <td>43.836552</td>\n",
       "      <td>45348.666794</td>\n",
       "      <td>0.001613</td>\n",
       "    </tr>\n",
       "    <tr>\n",
       "      <th>3</th>\n",
       "      <td>24096905</td>\n",
       "      <td>1631582640</td>\n",
       "      <td>1</td>\n",
       "      <td>1480.0</td>\n",
       "      <td>45321.851693</td>\n",
       "      <td>45355.37</td>\n",
       "      <td>45251.30</td>\n",
       "      <td>45277.501429</td>\n",
       "      <td>44.815200</td>\n",
       "      <td>45294.024285</td>\n",
       "      <td>0.001632</td>\n",
       "    </tr>\n",
       "    <tr>\n",
       "      <th>4</th>\n",
       "      <td>24096919</td>\n",
       "      <td>1631582700</td>\n",
       "      <td>1</td>\n",
       "      <td>1101.0</td>\n",
       "      <td>45278.460234</td>\n",
       "      <td>45313.59</td>\n",
       "      <td>45249.02</td>\n",
       "      <td>45269.988333</td>\n",
       "      <td>32.039459</td>\n",
       "      <td>45283.350543</td>\n",
       "      <td>0.001293</td>\n",
       "    </tr>\n",
       "  </tbody>\n",
       "</table>\n",
       "</div>"
      ],
      "text/plain": [
       "   Unnamed: 0   timestamp  Asset_ID   Count          Open      High       Low  \\\n",
       "0    24096863  1631582460         1  1069.0  45287.741429  45314.95  45268.40   \n",
       "1    24096877  1631582520         1  2577.0  45302.568571  45371.46  45294.02   \n",
       "2    24096891  1631582580         1  1471.0  45349.388571  45374.48  45311.00   \n",
       "3    24096905  1631582640         1  1480.0  45321.851693  45355.37  45251.30   \n",
       "4    24096919  1631582700         1  1101.0  45278.460234  45313.59  45249.02   \n",
       "\n",
       "          Close     Volume          VWAP    Target  \n",
       "0  45298.868508  36.800881  45291.343025 -0.000032  \n",
       "1  45348.035714  69.452843  45323.250853  0.000480  \n",
       "2  45333.891429  43.836552  45348.666794  0.001613  \n",
       "3  45277.501429  44.815200  45294.024285  0.001632  \n",
       "4  45269.988333  32.039459  45283.350543  0.001293  "
      ]
     },
     "execution_count": 2,
     "metadata": {},
     "output_type": "execute_result"
    },
    {
     "data": {
      "image/png": "[encoded data removed]",
      "text/plain": [
       "<Figure size 432x288 with 1 Axes>"
      ]
     },
     "metadata": {
      "needs_background": "light"
     },
     "output_type": "display_data"
    }
   ],
   "source": [
    "data = pd.read_csv('../data/Market/btc.csv')\n",
    "data['Close'].plot()\n",
    "data.head()"
   ]
  },
  {
   "cell_type": "code",
   "execution_count": 3,
   "id": "86301771",
   "metadata": {},
   "outputs": [],
   "source": [
    "btc = data[['timestamp', 'Close']].copy()\n",
    "btc.dropna(inplace=True)"
   ]
  },
  {
   "cell_type": "markdown",
   "id": "d8eb8e48",
   "metadata": {},
   "source": [
    "**Convertimos la columna de timestamps a datetimes y la ponemos como index**"
   ]
  },
  {
   "cell_type": "code",
   "execution_count": 4,
   "id": "e721bb9e",
   "metadata": {},
   "outputs": [],
   "source": [
    "cvtTimestampIntoDatetimeIndex(btc, 'timestamp')"
   ]
  },
  {
   "cell_type": "markdown",
   "id": "0be6a5b7",
   "metadata": {},
   "source": [
    "**Inferimos la frecuencia de los datos, sirve para rellenar algún hueco en el registro de las fechas, por ejemplo que se salte el registro de un minuto de una hora en concreto de un día**"
   ]
  },
  {
   "cell_type": "code",
   "execution_count": 5,
   "id": "98276307",
   "metadata": {},
   "outputs": [
    {
     "data": {
      "text/html": [
       "<div>\n",
       "<style scoped>\n",
       "    .dataframe tbody tr th:only-of-type {\n",
       "        vertical-align: middle;\n",
       "    }\n",
       "\n",
       "    .dataframe tbody tr th {\n",
       "        vertical-align: top;\n",
       "    }\n",
       "\n",
       "    .dataframe thead th {\n",
       "        text-align: right;\n",
       "    }\n",
       "</style>\n",
       "<table border=\"1\" class=\"dataframe\">\n",
       "  <thead>\n",
       "    <tr style=\"text-align: right;\">\n",
       "      <th></th>\n",
       "      <th>Close</th>\n",
       "    </tr>\n",
       "    <tr>\n",
       "      <th>timestamp</th>\n",
       "      <th></th>\n",
       "    </tr>\n",
       "  </thead>\n",
       "  <tbody>\n",
       "    <tr>\n",
       "      <th>2021-09-14 03:21:00</th>\n",
       "      <td>45298.868508</td>\n",
       "    </tr>\n",
       "    <tr>\n",
       "      <th>2021-09-14 03:22:00</th>\n",
       "      <td>45348.035714</td>\n",
       "    </tr>\n",
       "    <tr>\n",
       "      <th>2021-09-14 03:23:00</th>\n",
       "      <td>45333.891429</td>\n",
       "    </tr>\n",
       "    <tr>\n",
       "      <th>2021-09-14 03:24:00</th>\n",
       "      <td>45277.501429</td>\n",
       "    </tr>\n",
       "    <tr>\n",
       "      <th>2021-09-14 03:25:00</th>\n",
       "      <td>45269.988333</td>\n",
       "    </tr>\n",
       "  </tbody>\n",
       "</table>\n",
       "</div>"
      ],
      "text/plain": [
       "                            Close\n",
       "timestamp                        \n",
       "2021-09-14 03:21:00  45298.868508\n",
       "2021-09-14 03:22:00  45348.035714\n",
       "2021-09-14 03:23:00  45333.891429\n",
       "2021-09-14 03:24:00  45277.501429\n",
       "2021-09-14 03:25:00  45269.988333"
      ]
     },
     "execution_count": 5,
     "metadata": {},
     "output_type": "execute_result"
    }
   ],
   "source": [
    "btc = btc.asfreq(pd.infer_freq(btc.index))\n",
    "btc.head()"
   ]
  },
  {
   "cell_type": "markdown",
   "id": "fea36caf",
   "metadata": {},
   "source": [
    "**Ahora vamos a ploter la correlación parcial de 100 lags, es decir, la correlación de cada momento t, con los 100 anteriores, uno por uno**"
   ]
  },
  {
   "cell_type": "code",
   "execution_count": 6,
   "id": "01049d9e",
   "metadata": {},
   "outputs": [
    {
     "data": {
      "image/png": "[encoded data removed]",
      "text/plain": [
       "<Figure size 432x288 with 1 Axes>"
      ]
     },
     "metadata": {
      "needs_background": "light"
     },
     "output_type": "display_data"
    }
   ],
   "source": [
    "from statsmodels.graphics.tsaplots import plot_acf, plot_pacf\n",
    "\n",
    "plot_pacf(btc, lags=5, method='ywm'); # Se pone el punto y coma para que no se plotee dos veces, son cosas de ipy notebooks"
   ]
  },
  {
   "cell_type": "markdown",
   "id": "d1a4b3c7",
   "metadata": {},
   "source": [
    "**Lo que ocurre en ese plot es que hay valores de correlación que sobrepasan 1, esto se debe a que la serie temporal con la que trabajamos es claramente no estacionaria, por lo que se viola la asunción de Yule-Walker**\n",
    "**Vamos a hacer una transformación de la serie para convertirla en estacionaria, que va a hacerse mediante la diferencia de cada período t, con el anterior (t - 1)**"
   ]
  },
  {
   "cell_type": "code",
   "execution_count": 7,
   "id": "7edc8c78",
   "metadata": {},
   "outputs": [
    {
     "data": {
      "text/html": [
       "<div>\n",
       "<style scoped>\n",
       "    .dataframe tbody tr th:only-of-type {\n",
       "        vertical-align: middle;\n",
       "    }\n",
       "\n",
       "    .dataframe tbody tr th {\n",
       "        vertical-align: top;\n",
       "    }\n",
       "\n",
       "    .dataframe thead th {\n",
       "        text-align: right;\n",
       "    }\n",
       "</style>\n",
       "<table border=\"1\" class=\"dataframe\">\n",
       "  <thead>\n",
       "    <tr style=\"text-align: right;\">\n",
       "      <th></th>\n",
       "      <th>Close</th>\n",
       "    </tr>\n",
       "    <tr>\n",
       "      <th>timestamp</th>\n",
       "      <th></th>\n",
       "    </tr>\n",
       "  </thead>\n",
       "  <tbody>\n",
       "    <tr>\n",
       "      <th>2021-09-14 03:22:00</th>\n",
       "      <td>49.167206</td>\n",
       "    </tr>\n",
       "    <tr>\n",
       "      <th>2021-09-14 03:23:00</th>\n",
       "      <td>-14.144286</td>\n",
       "    </tr>\n",
       "    <tr>\n",
       "      <th>2021-09-14 03:24:00</th>\n",
       "      <td>-56.390000</td>\n",
       "    </tr>\n",
       "    <tr>\n",
       "      <th>2021-09-14 03:25:00</th>\n",
       "      <td>-7.513095</td>\n",
       "    </tr>\n",
       "    <tr>\n",
       "      <th>2021-09-14 03:26:00</th>\n",
       "      <td>-1.708333</td>\n",
       "    </tr>\n",
       "    <tr>\n",
       "      <th>...</th>\n",
       "      <td>...</td>\n",
       "    </tr>\n",
       "    <tr>\n",
       "      <th>2021-09-21 01:56:00</th>\n",
       "      <td>-86.201967</td>\n",
       "    </tr>\n",
       "    <tr>\n",
       "      <th>2021-09-21 01:57:00</th>\n",
       "      <td>-39.007143</td>\n",
       "    </tr>\n",
       "    <tr>\n",
       "      <th>2021-09-21 01:58:00</th>\n",
       "      <td>-32.985714</td>\n",
       "    </tr>\n",
       "    <tr>\n",
       "      <th>2021-09-21 01:59:00</th>\n",
       "      <td>190.257143</td>\n",
       "    </tr>\n",
       "    <tr>\n",
       "      <th>2021-09-21 02:00:00</th>\n",
       "      <td>-14.772143</td>\n",
       "    </tr>\n",
       "  </tbody>\n",
       "</table>\n",
       "<p>9999 rows × 1 columns</p>\n",
       "</div>"
      ],
      "text/plain": [
       "                          Close\n",
       "timestamp                      \n",
       "2021-09-14 03:22:00   49.167206\n",
       "2021-09-14 03:23:00  -14.144286\n",
       "2021-09-14 03:24:00  -56.390000\n",
       "2021-09-14 03:25:00   -7.513095\n",
       "2021-09-14 03:26:00   -1.708333\n",
       "...                         ...\n",
       "2021-09-21 01:56:00  -86.201967\n",
       "2021-09-21 01:57:00  -39.007143\n",
       "2021-09-21 01:58:00  -32.985714\n",
       "2021-09-21 01:59:00  190.257143\n",
       "2021-09-21 02:00:00  -14.772143\n",
       "\n",
       "[9999 rows x 1 columns]"
      ]
     },
     "execution_count": 7,
     "metadata": {},
     "output_type": "execute_result"
    },
    {
     "data": {
      "image/png": "[encoded data removed]",
      "text/plain": [
       "<Figure size 432x288 with 1 Axes>"
      ]
     },
     "metadata": {
      "needs_background": "light"
     },
     "output_type": "display_data"
    }
   ],
   "source": [
    "aux = btc.copy()\n",
    "aux['Close t - 1'] = aux['Close'].shift(1)\n",
    "aux.dropna(inplace=True)\n",
    "btc_returns = pd.DataFrame()\n",
    "btc_returns['Close'] = aux['Close'] - aux['Close t - 1']\n",
    "btc_returns.plot()\n",
    "btc_returns"
   ]
  },
  {
   "cell_type": "code",
   "execution_count": 8,
   "id": "f6e9e963",
   "metadata": {},
   "outputs": [
    {
     "data": {
      "image/png": "[encoded data removed]",
      "text/plain": [
       "<Figure size 432x288 with 1 Axes>"
      ]
     },
     "metadata": {
      "needs_background": "light"
     },
     "output_type": "display_data"
    }
   ],
   "source": [
    "plot_pacf(btc_returns, lags=5, method='ywm');"
   ]
  },
  {
   "cell_type": "markdown",
   "id": "71b4eeea",
   "metadata": {},
   "source": [
    "**Sigue sin ser estacionaria, podemos intentar filtrar algunos valores extremos que podemos visualizar en el plot, estos valores se conocen como outliers. Esto puede hacerse simplemente con un filtro que se quede sólo con los valores entre -300 y 300**"
   ]
  },
  {
   "cell_type": "code",
   "execution_count": 11,
   "id": "61234cbf",
   "metadata": {},
   "outputs": [
    {
     "data": {
      "text/html": [
       "<div>\n",
       "<style scoped>\n",
       "    .dataframe tbody tr th:only-of-type {\n",
       "        vertical-align: middle;\n",
       "    }\n",
       "\n",
       "    .dataframe tbody tr th {\n",
       "        vertical-align: top;\n",
       "    }\n",
       "\n",
       "    .dataframe thead th {\n",
       "        text-align: right;\n",
       "    }\n",
       "</style>\n",
       "<table border=\"1\" class=\"dataframe\">\n",
       "  <thead>\n",
       "    <tr style=\"text-align: right;\">\n",
       "      <th></th>\n",
       "      <th>Close</th>\n",
       "    </tr>\n",
       "    <tr>\n",
       "      <th>timestamp</th>\n",
       "      <th></th>\n",
       "    </tr>\n",
       "  </thead>\n",
       "  <tbody>\n",
       "    <tr>\n",
       "      <th>2021-09-14 03:22:00</th>\n",
       "      <td>49.167206</td>\n",
       "    </tr>\n",
       "    <tr>\n",
       "      <th>2021-09-14 03:23:00</th>\n",
       "      <td>-14.144286</td>\n",
       "    </tr>\n",
       "    <tr>\n",
       "      <th>2021-09-14 03:24:00</th>\n",
       "      <td>-56.390000</td>\n",
       "    </tr>\n",
       "    <tr>\n",
       "      <th>2021-09-14 03:25:00</th>\n",
       "      <td>-7.513095</td>\n",
       "    </tr>\n",
       "    <tr>\n",
       "      <th>2021-09-14 03:26:00</th>\n",
       "      <td>-1.708333</td>\n",
       "    </tr>\n",
       "    <tr>\n",
       "      <th>...</th>\n",
       "      <td>...</td>\n",
       "    </tr>\n",
       "    <tr>\n",
       "      <th>2021-09-21 01:56:00</th>\n",
       "      <td>-86.201967</td>\n",
       "    </tr>\n",
       "    <tr>\n",
       "      <th>2021-09-21 01:57:00</th>\n",
       "      <td>-39.007143</td>\n",
       "    </tr>\n",
       "    <tr>\n",
       "      <th>2021-09-21 01:58:00</th>\n",
       "      <td>-32.985714</td>\n",
       "    </tr>\n",
       "    <tr>\n",
       "      <th>2021-09-21 01:59:00</th>\n",
       "      <td>190.257143</td>\n",
       "    </tr>\n",
       "    <tr>\n",
       "      <th>2021-09-21 02:00:00</th>\n",
       "      <td>-14.772143</td>\n",
       "    </tr>\n",
       "  </tbody>\n",
       "</table>\n",
       "<p>9999 rows × 1 columns</p>\n",
       "</div>"
      ],
      "text/plain": [
       "                          Close\n",
       "timestamp                      \n",
       "2021-09-14 03:22:00   49.167206\n",
       "2021-09-14 03:23:00  -14.144286\n",
       "2021-09-14 03:24:00  -56.390000\n",
       "2021-09-14 03:25:00   -7.513095\n",
       "2021-09-14 03:26:00   -1.708333\n",
       "...                         ...\n",
       "2021-09-21 01:56:00  -86.201967\n",
       "2021-09-21 01:57:00  -39.007143\n",
       "2021-09-21 01:58:00  -32.985714\n",
       "2021-09-21 01:59:00  190.257143\n",
       "2021-09-21 02:00:00  -14.772143\n",
       "\n",
       "[9999 rows x 1 columns]"
      ]
     },
     "execution_count": 11,
     "metadata": {},
     "output_type": "execute_result"
    },
    {
     "data": {
      "image/png": "[encoded data removed]",
      "text/plain": [
       "<Figure size 432x288 with 1 Axes>"
      ]
     },
     "metadata": {
      "needs_background": "light"
     },
     "output_type": "display_data"
    }
   ],
   "source": [
    "btc_returns['Close'] = btc_returns[ (btc_returns['Close'] < 300.0) & (btc_returns['Close'] > -300.0)]\n",
    "btc_returns.plot()\n",
    "btc_returns"
   ]
  },
  {
   "cell_type": "markdown",
   "id": "3cc7c0c5",
   "metadata": {},
   "source": [
    "# Hay que sustituir los valores que hemos quitado por algo, o bien por la media de la serie, o los quitamos y volvemos a inferir la frecuencia"
   ]
  },
  {
   "cell_type": "code",
   "execution_count": 10,
   "id": "d5fb0527",
   "metadata": {},
   "outputs": [
    {
     "data": {
      "image/png": "[encoded data removed]",
      "text/plain": [
       "<Figure size 432x288 with 1 Axes>"
      ]
     },
     "metadata": {
      "needs_background": "light"
     },
     "output_type": "display_data"
    }
   ],
   "source": [
    "plot_pacf(btc_returns, lags=100, method='ywm');"
   ]
  }
 ],
 "metadata": {
  "kernelspec": {
   "display_name": "Python 3 (ipykernel)",
   "language": "python",
   "name": "python3"
  },
  "language_info": {
   "codemirror_mode": {
    "name": "ipython",
    "version": 3
   },
   "file_extension": ".py",
   "mimetype": "text/x-python",
   "name": "python",
   "nbconvert_exporter": "python",
   "pygments_lexer": "ipython3",
   "version": "3.9.7"
  }
 },
 "nbformat": 4,
 "nbformat_minor": 5
}
