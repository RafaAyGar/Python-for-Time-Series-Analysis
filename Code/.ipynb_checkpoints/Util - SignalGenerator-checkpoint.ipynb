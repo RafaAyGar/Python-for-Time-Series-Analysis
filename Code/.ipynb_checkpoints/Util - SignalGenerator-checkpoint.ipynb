{
 "cells": [
  {
   "cell_type": "code",
   "execution_count": 1,
   "id": "4eab5843",
   "metadata": {},
   "outputs": [],
   "source": [
    "import numpy as np\n",
    "import matplotlib.pyplot as plt"
   ]
  },
  {
   "cell_type": "code",
   "execution_count": 5,
   "id": "4c958532",
   "metadata": {},
   "outputs": [],
   "source": [
    "def generate_ar_process(lags, coefs, length):\n",
    "    coefs = np.array(coefs)\n",
    "    series = [np.random.normal() for _ in range(lags)]\n",
    "    for _ in range(length):\n",
    "        prev_vals = series[-lags:][::-1]\n",
    "        new_val = np.sum(np.array(prev_vals) * coefs) + np.random.normal()\n",
    "        series.append(new_val)\n",
    "    return np.array(series)"
   ]
  },
  {
   "cell_type": "code",
   "execution_count": 3,
   "id": "9f3be6e3",
   "metadata": {
    "scrolled": true
   },
   "outputs": [],
   "source": [
    "# generated = generate_ar_process(2, [.7, .3], 100)"
   ]
  },
  {
   "cell_type": "code",
   "execution_count": 4,
   "id": "d530b897",
   "metadata": {},
   "outputs": [],
   "source": [
    "# plt.plot(generated)"
   ]
  }
 ],
 "metadata": {
  "kernelspec": {
   "display_name": "Python 3 (ipykernel)",
   "language": "python",
   "name": "python3"
  },
  "language_info": {
   "codemirror_mode": {
    "name": "ipython",
    "version": 3
   },
   "file_extension": ".py",
   "mimetype": "text/x-python",
   "name": "python",
   "nbconvert_exporter": "python",
   "pygments_lexer": "ipython3",
   "version": "3.9.7"
  }
 },
 "nbformat": 4,
 "nbformat_minor": 5
}
