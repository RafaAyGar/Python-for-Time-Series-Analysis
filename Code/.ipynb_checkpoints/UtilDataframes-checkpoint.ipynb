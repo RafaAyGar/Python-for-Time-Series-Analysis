{
 "cells": [
  {
   "cell_type": "code",
   "execution_count": 7,
   "id": "bf5a23f4",
   "metadata": {},
   "outputs": [],
   "source": [
    "import pandas as pd\n",
    "import numpy as np\n",
    "from datetime import datetime, timedelta"
   ]
  },
  {
   "cell_type": "markdown",
   "id": "62c09762",
   "metadata": {},
   "source": [
    "# Transforma una columna de timestamps en formato datetime y la pone como el index del df"
   ]
  },
  {
   "cell_type": "code",
   "execution_count": 2,
   "id": "20a44a02",
   "metadata": {},
   "outputs": [],
   "source": [
    "def cvtTimestampIntoDatetimeIndex(df, timestampColumnName):\n",
    "    df[timestampColumnName] = df[timestampColumnName].apply(lambda t : datetime.fromtimestamp(t))\n",
    "    df.set_index(timestampColumnName, inplace=True)"
   ]
  },
  {
   "cell_type": "code",
   "execution_count": null,
   "id": "b3cf48b8",
   "metadata": {},
   "outputs": [],
   "source": [
    "def split_date(data, train_end_date):\n",
    "    test_start_date = train_end_date + timedelta(seconds=60)\n",
    "    train = data[:train_end_date]\n",
    "    test = data[test_start_date:]\n",
    "    return train, test"
   ]
  },
  {
   "cell_type": "code",
   "execution_count": 3,
   "id": "96db3ada",
   "metadata": {},
   "outputs": [],
   "source": [
    "def sequential_train_test_split(X, Y, test_size):\n",
    "    total_size = len(X)\n",
    "    train_size = round(total_size*(1-test_size))\n",
    "    x_train = X[:train_size].reset_index(drop = True)\n",
    "    x_test = X[train_size:].reset_index(drop = True)\n",
    "    y_train = Y[:train_size].reset_index(drop = True)\n",
    "    y_test = Y[train_size:].reset_index(drop = True)\n",
    "    return x_train, x_test, y_train, y_test"
   ]
  },
  {
   "cell_type": "code",
   "execution_count": 4,
   "id": "6f945c40",
   "metadata": {},
   "outputs": [],
   "source": [
    "# SÓLO PARA DATASETS DE MINUTOS\n",
    "def date_train_test_split(X, Y, train_end_date):\n",
    "    test_start_date = train_end_date + timedelta(seconds=60)\n",
    "    x_train = X[:train_end_date]\n",
    "    x_test = X[test_start_date:]\n",
    "    y_train = Y[:train_end_date]\n",
    "    y_test = Y[test_start_date:]\n",
    "    return x_train, x_test, y_train, y_test"
   ]
  },
  {
   "cell_type": "code",
   "execution_count": 5,
   "id": "ebc8170f",
   "metadata": {},
   "outputs": [],
   "source": [
    "def add_n_last_periods(df, column, periods, resetIndex=False):\n",
    "    for i in range(1, periods + 1):\n",
    "        column_name = f'{column} t - {i}'\n",
    "        df[column_name] = df[column].shift(i)\n",
    "    df.dropna(inplace=True)\n",
    "    if resetIndex:\n",
    "        df.reset_index(inplace = True, drop = True)\n",
    "    return df"
   ]
  },
  {
   "cell_type": "code",
   "execution_count": 6,
   "id": "95131beb",
   "metadata": {},
   "outputs": [],
   "source": [
    "def split_features_from_target(df, targetColumn):\n",
    "    X = df[np.delete(df.columns, np.where(df.columns == targetColumn))]\n",
    "    Y = df[targetColumn]\n",
    "    return X, Y"
   ]
  }
 ],
 "metadata": {
  "kernelspec": {
   "display_name": "Python 3 (ipykernel)",
   "language": "python",
   "name": "python3"
  },
  "language_info": {
   "codemirror_mode": {
    "name": "ipython",
    "version": 3
   },
   "file_extension": ".py",
   "mimetype": "text/x-python",
   "name": "python",
   "nbconvert_exporter": "python",
   "pygments_lexer": "ipython3",
   "version": "3.8.10"
  }
 },
 "nbformat": 4,
 "nbformat_minor": 5
}
