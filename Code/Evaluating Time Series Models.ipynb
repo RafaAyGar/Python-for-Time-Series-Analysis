{
 "cells": [
  {
   "cell_type": "code",
   "execution_count": 8,
   "id": "a985fc5a",
   "metadata": {},
   "outputs": [],
   "source": [
    "from pandas import read_csv\n",
    "import pandas as pd\n",
    "import numpy as np\n",
    "import import_ipynb\n",
    "from UtilDataframes import cvtTimestampIntoDatetimeIndex, split_date, add_n_last_periods, split_features_from_target\n",
    "from datetime import datetime, timedelta\n",
    "from statsmodels.tsa.arima.model import ARIMA\n",
    "from time import time"
   ]
  },
  {
   "cell_type": "code",
   "execution_count": 9,
   "id": "3ccf45c1",
   "metadata": {},
   "outputs": [
    {
     "data": {
      "text/html": [
       "<div>\n",
       "<style scoped>\n",
       "    .dataframe tbody tr th:only-of-type {\n",
       "        vertical-align: middle;\n",
       "    }\n",
       "\n",
       "    .dataframe tbody tr th {\n",
       "        vertical-align: top;\n",
       "    }\n",
       "\n",
       "    .dataframe thead th {\n",
       "        text-align: right;\n",
       "    }\n",
       "</style>\n",
       "<table border=\"1\" class=\"dataframe\">\n",
       "  <thead>\n",
       "    <tr style=\"text-align: right;\">\n",
       "      <th></th>\n",
       "      <th>Close</th>\n",
       "    </tr>\n",
       "    <tr>\n",
       "      <th>timestamp</th>\n",
       "      <th></th>\n",
       "    </tr>\n",
       "  </thead>\n",
       "  <tbody>\n",
       "    <tr>\n",
       "      <th>2021-09-14 03:21:00</th>\n",
       "      <td>45298.868508</td>\n",
       "    </tr>\n",
       "    <tr>\n",
       "      <th>2021-09-14 03:22:00</th>\n",
       "      <td>45348.035714</td>\n",
       "    </tr>\n",
       "    <tr>\n",
       "      <th>2021-09-14 03:23:00</th>\n",
       "      <td>45333.891429</td>\n",
       "    </tr>\n",
       "    <tr>\n",
       "      <th>2021-09-14 03:24:00</th>\n",
       "      <td>45277.501429</td>\n",
       "    </tr>\n",
       "    <tr>\n",
       "      <th>2021-09-14 03:25:00</th>\n",
       "      <td>45269.988333</td>\n",
       "    </tr>\n",
       "    <tr>\n",
       "      <th>...</th>\n",
       "      <td>...</td>\n",
       "    </tr>\n",
       "    <tr>\n",
       "      <th>2021-09-21 01:56:00</th>\n",
       "      <td>42899.012857</td>\n",
       "    </tr>\n",
       "    <tr>\n",
       "      <th>2021-09-21 01:57:00</th>\n",
       "      <td>42860.005714</td>\n",
       "    </tr>\n",
       "    <tr>\n",
       "      <th>2021-09-21 01:58:00</th>\n",
       "      <td>42827.020000</td>\n",
       "    </tr>\n",
       "    <tr>\n",
       "      <th>2021-09-21 01:59:00</th>\n",
       "      <td>43017.277143</td>\n",
       "    </tr>\n",
       "    <tr>\n",
       "      <th>2021-09-21 02:00:00</th>\n",
       "      <td>43002.505000</td>\n",
       "    </tr>\n",
       "  </tbody>\n",
       "</table>\n",
       "<p>10000 rows × 1 columns</p>\n",
       "</div>"
      ],
      "text/plain": [
       "                            Close\n",
       "timestamp                        \n",
       "2021-09-14 03:21:00  45298.868508\n",
       "2021-09-14 03:22:00  45348.035714\n",
       "2021-09-14 03:23:00  45333.891429\n",
       "2021-09-14 03:24:00  45277.501429\n",
       "2021-09-14 03:25:00  45269.988333\n",
       "...                           ...\n",
       "2021-09-21 01:56:00  42899.012857\n",
       "2021-09-21 01:57:00  42860.005714\n",
       "2021-09-21 01:58:00  42827.020000\n",
       "2021-09-21 01:59:00  43017.277143\n",
       "2021-09-21 02:00:00  43002.505000\n",
       "\n",
       "[10000 rows x 1 columns]"
      ]
     },
     "execution_count": 9,
     "metadata": {},
     "output_type": "execute_result"
    }
   ],
   "source": [
    "data = read_csv(\"../data/btc.csv\")\n",
    "data.drop('Unnamed: 0', axis=1)\n",
    "data = data[['timestamp', 'Close']]\n",
    "cvtTimestampIntoDatetimeIndex(data, 'timestamp')\n",
    "data = data.asfreq(pd.infer_freq(data.index))\n",
    "data"
   ]
  },
  {
   "cell_type": "markdown",
   "id": "5f4e44aa",
   "metadata": {},
   "source": [
    "# Rolling Forecast Origin\n",
    "\n",
    "**Consiste en predecir, como máximo, el periodo siguiente (t + 1), en base a los k periodos anteriores**"
   ]
  },
  {
   "cell_type": "markdown",
   "id": "bae8ae60",
   "metadata": {},
   "source": [
    "## Separamos en columnas de predicción y columna a predecir"
   ]
  },
  {
   "cell_type": "code",
   "execution_count": 10,
   "id": "4942d862",
   "metadata": {},
   "outputs": [],
   "source": [
    "train_end_date = datetime(2021, 9, 21)\n",
    "train, test = split_date(data, train_end_date)"
   ]
  },
  {
   "cell_type": "code",
   "execution_count": 4,
   "id": "e34852af",
   "metadata": {},
   "outputs": [
    {
     "data": {
      "text/plain": [
       "timestamp\n",
       "2021-09-14 03:21:00    45298.868508\n",
       "2021-09-14 03:22:00    45348.035714\n",
       "2021-09-14 03:23:00    45333.891429\n",
       "2021-09-14 03:24:00    45277.501429\n",
       "2021-09-14 03:25:00    45269.988333\n",
       "                           ...     \n",
       "2021-09-21 01:56:00    42899.012857\n",
       "2021-09-21 01:57:00    42860.005714\n",
       "2021-09-21 01:58:00    42827.020000\n",
       "2021-09-21 01:59:00    43017.277143\n",
       "2021-09-21 02:00:00    43002.505000\n",
       "Freq: T, Name: Close, Length: 10000, dtype: float64"
      ]
     },
     "execution_count": 4,
     "metadata": {},
     "output_type": "execute_result"
    }
   ],
   "source": []
  }
 ],
 "metadata": {
  "kernelspec": {
   "display_name": "Python 3 (ipykernel)",
   "language": "python",
   "name": "python3"
  },
  "language_info": {
   "codemirror_mode": {
    "name": "ipython",
    "version": 3
   },
   "file_extension": ".py",
   "mimetype": "text/x-python",
   "name": "python",
   "nbconvert_exporter": "python",
   "pygments_lexer": "ipython3",
   "version": "3.8.10"
  }
 },
 "nbformat": 4,
 "nbformat_minor": 5
}
