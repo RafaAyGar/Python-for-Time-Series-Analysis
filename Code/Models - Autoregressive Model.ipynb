{
 "cells": [
  {
   "cell_type": "code",
   "execution_count": 1,
   "id": "efa82797",
   "metadata": {},
   "outputs": [
    {
     "name": "stdout",
     "output_type": "stream",
     "text": [
      "importing Jupyter notebook from UtilDataframes.ipynb\n"
     ]
    }
   ],
   "source": [
    "import pandas as pd\n",
    "import numpy as np\n",
    "from datetime import datetime, timedelta\n",
    "from pandas.plotting import register_matplotlib_converters\n",
    "register_matplotlib_converters()\n",
    "from statsmodels.tsa.arima.model import ARIMA\n",
    "import matplotlib.pyplot as plt\n",
    "import import_ipynb\n",
    "from UtilDataframes import cvtTimestampIntoDatetimeIndex\n",
    "from time import time"
   ]
  },
  {
   "cell_type": "code",
   "execution_count": 2,
   "id": "3bb09257",
   "metadata": {},
   "outputs": [
    {
     "data": {
      "text/html": [
       "<div>\n",
       "<style scoped>\n",
       "    .dataframe tbody tr th:only-of-type {\n",
       "        vertical-align: middle;\n",
       "    }\n",
       "\n",
       "    .dataframe tbody tr th {\n",
       "        vertical-align: top;\n",
       "    }\n",
       "\n",
       "    .dataframe thead th {\n",
       "        text-align: right;\n",
       "    }\n",
       "</style>\n",
       "<table border=\"1\" class=\"dataframe\">\n",
       "  <thead>\n",
       "    <tr style=\"text-align: right;\">\n",
       "      <th></th>\n",
       "      <th>Unnamed: 0</th>\n",
       "      <th>timestamp</th>\n",
       "      <th>Asset_ID</th>\n",
       "      <th>Count</th>\n",
       "      <th>Open</th>\n",
       "      <th>High</th>\n",
       "      <th>Low</th>\n",
       "      <th>Close</th>\n",
       "      <th>Volume</th>\n",
       "      <th>VWAP</th>\n",
       "      <th>Target</th>\n",
       "    </tr>\n",
       "  </thead>\n",
       "  <tbody>\n",
       "    <tr>\n",
       "      <th>0</th>\n",
       "      <td>24096863</td>\n",
       "      <td>1631582460</td>\n",
       "      <td>1</td>\n",
       "      <td>1069.0</td>\n",
       "      <td>45287.741429</td>\n",
       "      <td>45314.95</td>\n",
       "      <td>45268.40</td>\n",
       "      <td>45298.868508</td>\n",
       "      <td>36.800881</td>\n",
       "      <td>45291.343025</td>\n",
       "      <td>-0.000032</td>\n",
       "    </tr>\n",
       "    <tr>\n",
       "      <th>1</th>\n",
       "      <td>24096877</td>\n",
       "      <td>1631582520</td>\n",
       "      <td>1</td>\n",
       "      <td>2577.0</td>\n",
       "      <td>45302.568571</td>\n",
       "      <td>45371.46</td>\n",
       "      <td>45294.02</td>\n",
       "      <td>45348.035714</td>\n",
       "      <td>69.452843</td>\n",
       "      <td>45323.250853</td>\n",
       "      <td>0.000480</td>\n",
       "    </tr>\n",
       "    <tr>\n",
       "      <th>2</th>\n",
       "      <td>24096891</td>\n",
       "      <td>1631582580</td>\n",
       "      <td>1</td>\n",
       "      <td>1471.0</td>\n",
       "      <td>45349.388571</td>\n",
       "      <td>45374.48</td>\n",
       "      <td>45311.00</td>\n",
       "      <td>45333.891429</td>\n",
       "      <td>43.836552</td>\n",
       "      <td>45348.666794</td>\n",
       "      <td>0.001613</td>\n",
       "    </tr>\n",
       "    <tr>\n",
       "      <th>3</th>\n",
       "      <td>24096905</td>\n",
       "      <td>1631582640</td>\n",
       "      <td>1</td>\n",
       "      <td>1480.0</td>\n",
       "      <td>45321.851693</td>\n",
       "      <td>45355.37</td>\n",
       "      <td>45251.30</td>\n",
       "      <td>45277.501429</td>\n",
       "      <td>44.815200</td>\n",
       "      <td>45294.024285</td>\n",
       "      <td>0.001632</td>\n",
       "    </tr>\n",
       "    <tr>\n",
       "      <th>4</th>\n",
       "      <td>24096919</td>\n",
       "      <td>1631582700</td>\n",
       "      <td>1</td>\n",
       "      <td>1101.0</td>\n",
       "      <td>45278.460234</td>\n",
       "      <td>45313.59</td>\n",
       "      <td>45249.02</td>\n",
       "      <td>45269.988333</td>\n",
       "      <td>32.039459</td>\n",
       "      <td>45283.350543</td>\n",
       "      <td>0.001293</td>\n",
       "    </tr>\n",
       "  </tbody>\n",
       "</table>\n",
       "</div>"
      ],
      "text/plain": [
       "   Unnamed: 0   timestamp  Asset_ID   Count          Open      High       Low  \\\n",
       "0    24096863  1631582460         1  1069.0  45287.741429  45314.95  45268.40   \n",
       "1    24096877  1631582520         1  2577.0  45302.568571  45371.46  45294.02   \n",
       "2    24096891  1631582580         1  1471.0  45349.388571  45374.48  45311.00   \n",
       "3    24096905  1631582640         1  1480.0  45321.851693  45355.37  45251.30   \n",
       "4    24096919  1631582700         1  1101.0  45278.460234  45313.59  45249.02   \n",
       "\n",
       "          Close     Volume          VWAP    Target  \n",
       "0  45298.868508  36.800881  45291.343025 -0.000032  \n",
       "1  45348.035714  69.452843  45323.250853  0.000480  \n",
       "2  45333.891429  43.836552  45348.666794  0.001613  \n",
       "3  45277.501429  44.815200  45294.024285  0.001632  \n",
       "4  45269.988333  32.039459  45283.350543  0.001293  "
      ]
     },
     "execution_count": 2,
     "metadata": {},
     "output_type": "execute_result"
    },
    {
     "data": {
      "image/png": "[encoded data removed]",
      "text/plain": [
       "<Figure size 432x288 with 1 Axes>"
      ]
     },
     "metadata": {
      "needs_background": "light"
     },
     "output_type": "display_data"
    }
   ],
   "source": [
    "data = pd.read_csv('../data/Market/btc.csv')\n",
    "data['Close'].plot()\n",
    "data.head()"
   ]
  },
  {
   "cell_type": "code",
   "execution_count": 3,
   "id": "86301771",
   "metadata": {},
   "outputs": [],
   "source": [
    "btc = data[['timestamp', 'Close']].copy()\n",
    "btc.dropna(inplace=True)"
   ]
  },
  {
   "cell_type": "markdown",
   "id": "d8eb8e48",
   "metadata": {},
   "source": [
    "**Convertimos la columna de timestamps a datetimes y la ponemos como index**"
   ]
  },
  {
   "cell_type": "code",
   "execution_count": 4,
   "id": "e721bb9e",
   "metadata": {},
   "outputs": [
    {
     "data": {
      "text/html": [
       "<div>\n",
       "<style scoped>\n",
       "    .dataframe tbody tr th:only-of-type {\n",
       "        vertical-align: middle;\n",
       "    }\n",
       "\n",
       "    .dataframe tbody tr th {\n",
       "        vertical-align: top;\n",
       "    }\n",
       "\n",
       "    .dataframe thead th {\n",
       "        text-align: right;\n",
       "    }\n",
       "</style>\n",
       "<table border=\"1\" class=\"dataframe\">\n",
       "  <thead>\n",
       "    <tr style=\"text-align: right;\">\n",
       "      <th></th>\n",
       "      <th>Close</th>\n",
       "    </tr>\n",
       "    <tr>\n",
       "      <th>timestamp</th>\n",
       "      <th></th>\n",
       "    </tr>\n",
       "  </thead>\n",
       "  <tbody>\n",
       "    <tr>\n",
       "      <th>2021-09-14 03:21:00</th>\n",
       "      <td>45298.868508</td>\n",
       "    </tr>\n",
       "    <tr>\n",
       "      <th>2021-09-14 03:22:00</th>\n",
       "      <td>45348.035714</td>\n",
       "    </tr>\n",
       "    <tr>\n",
       "      <th>2021-09-14 03:23:00</th>\n",
       "      <td>45333.891429</td>\n",
       "    </tr>\n",
       "    <tr>\n",
       "      <th>2021-09-14 03:24:00</th>\n",
       "      <td>45277.501429</td>\n",
       "    </tr>\n",
       "    <tr>\n",
       "      <th>2021-09-14 03:25:00</th>\n",
       "      <td>45269.988333</td>\n",
       "    </tr>\n",
       "    <tr>\n",
       "      <th>...</th>\n",
       "      <td>...</td>\n",
       "    </tr>\n",
       "    <tr>\n",
       "      <th>2021-09-21 01:56:00</th>\n",
       "      <td>42899.012857</td>\n",
       "    </tr>\n",
       "    <tr>\n",
       "      <th>2021-09-21 01:57:00</th>\n",
       "      <td>42860.005714</td>\n",
       "    </tr>\n",
       "    <tr>\n",
       "      <th>2021-09-21 01:58:00</th>\n",
       "      <td>42827.020000</td>\n",
       "    </tr>\n",
       "    <tr>\n",
       "      <th>2021-09-21 01:59:00</th>\n",
       "      <td>43017.277143</td>\n",
       "    </tr>\n",
       "    <tr>\n",
       "      <th>2021-09-21 02:00:00</th>\n",
       "      <td>43002.505000</td>\n",
       "    </tr>\n",
       "  </tbody>\n",
       "</table>\n",
       "<p>10000 rows × 1 columns</p>\n",
       "</div>"
      ],
      "text/plain": [
       "                            Close\n",
       "timestamp                        \n",
       "2021-09-14 03:21:00  45298.868508\n",
       "2021-09-14 03:22:00  45348.035714\n",
       "2021-09-14 03:23:00  45333.891429\n",
       "2021-09-14 03:24:00  45277.501429\n",
       "2021-09-14 03:25:00  45269.988333\n",
       "...                           ...\n",
       "2021-09-21 01:56:00  42899.012857\n",
       "2021-09-21 01:57:00  42860.005714\n",
       "2021-09-21 01:58:00  42827.020000\n",
       "2021-09-21 01:59:00  43017.277143\n",
       "2021-09-21 02:00:00  43002.505000\n",
       "\n",
       "[10000 rows x 1 columns]"
      ]
     },
     "execution_count": 4,
     "metadata": {},
     "output_type": "execute_result"
    }
   ],
   "source": [
    "cvtTimestampIntoDatetimeIndex(btc, 'timestamp')\n",
    "btc"
   ]
  },
  {
   "cell_type": "markdown",
   "id": "0be6a5b7",
   "metadata": {},
   "source": [
    "**Inferimos la frecuencia de los datos, sirve para rellenar algún hueco en el registro de las fechas, por ejemplo que se salte el registro de un minuto de una hora en concreto de un día**"
   ]
  },
  {
   "cell_type": "code",
   "execution_count": 5,
   "id": "98276307",
   "metadata": {},
   "outputs": [
    {
     "data": {
      "text/html": [
       "<div>\n",
       "<style scoped>\n",
       "    .dataframe tbody tr th:only-of-type {\n",
       "        vertical-align: middle;\n",
       "    }\n",
       "\n",
       "    .dataframe tbody tr th {\n",
       "        vertical-align: top;\n",
       "    }\n",
       "\n",
       "    .dataframe thead th {\n",
       "        text-align: right;\n",
       "    }\n",
       "</style>\n",
       "<table border=\"1\" class=\"dataframe\">\n",
       "  <thead>\n",
       "    <tr style=\"text-align: right;\">\n",
       "      <th></th>\n",
       "      <th>Close</th>\n",
       "    </tr>\n",
       "    <tr>\n",
       "      <th>timestamp</th>\n",
       "      <th></th>\n",
       "    </tr>\n",
       "  </thead>\n",
       "  <tbody>\n",
       "    <tr>\n",
       "      <th>2021-09-14 03:21:00</th>\n",
       "      <td>45298.868508</td>\n",
       "    </tr>\n",
       "    <tr>\n",
       "      <th>2021-09-14 03:22:00</th>\n",
       "      <td>45348.035714</td>\n",
       "    </tr>\n",
       "    <tr>\n",
       "      <th>2021-09-14 03:23:00</th>\n",
       "      <td>45333.891429</td>\n",
       "    </tr>\n",
       "    <tr>\n",
       "      <th>2021-09-14 03:24:00</th>\n",
       "      <td>45277.501429</td>\n",
       "    </tr>\n",
       "    <tr>\n",
       "      <th>2021-09-14 03:25:00</th>\n",
       "      <td>45269.988333</td>\n",
       "    </tr>\n",
       "  </tbody>\n",
       "</table>\n",
       "</div>"
      ],
      "text/plain": [
       "                            Close\n",
       "timestamp                        \n",
       "2021-09-14 03:21:00  45298.868508\n",
       "2021-09-14 03:22:00  45348.035714\n",
       "2021-09-14 03:23:00  45333.891429\n",
       "2021-09-14 03:24:00  45277.501429\n",
       "2021-09-14 03:25:00  45269.988333"
      ]
     },
     "execution_count": 5,
     "metadata": {},
     "output_type": "execute_result"
    }
   ],
   "source": [
    "btc = btc.asfreq(pd.infer_freq(btc.index))\n",
    "btc.head()"
   ]
  },
  {
   "cell_type": "markdown",
   "id": "fea36caf",
   "metadata": {},
   "source": [
    "**Ahora vamos a ploter la correlación parcial de 100 lags, es decir, la correlación de cada momento t, con los 100 anteriores, uno por uno**"
   ]
  },
  {
   "cell_type": "code",
   "execution_count": 6,
   "id": "01049d9e",
   "metadata": {},
   "outputs": [
    {
     "data": {
      "image/png": "[encoded data removed]",
      "text/plain": [
       "<Figure size 432x288 with 1 Axes>"
      ]
     },
     "metadata": {
      "needs_background": "light"
     },
     "output_type": "display_data"
    }
   ],
   "source": [
    "from statsmodels.graphics.tsaplots import plot_acf, plot_pacf\n",
    "\n",
    "plot_pacf(btc, lags=5, method='ywm', zero=False); # Se pone el punto y coma para que no se plotee dos veces, son cosas de ipy notebooks"
   ]
  },
  {
   "cell_type": "markdown",
   "id": "d1a4b3c7",
   "metadata": {},
   "source": [
    "**Parece que hay una correlación fuerte con el período anterior, es decir, de cada periodo t, con t - 1**"
   ]
  },
  {
   "cell_type": "code",
   "execution_count": 7,
   "id": "ebceb245",
   "metadata": {},
   "outputs": [
    {
     "data": {
      "image/png": "[encoded data removed]",
      "text/plain": [
       "<Figure size 432x288 with 1 Axes>"
      ]
     },
     "metadata": {
      "needs_background": "light"
     },
     "output_type": "display_data"
    }
   ],
   "source": [
    "plot_acf(btc, zero=False);"
   ]
  },
  {
   "cell_type": "markdown",
   "id": "774340eb",
   "metadata": {},
   "source": [
    "**Parece ser que hay una correlación fuerte con los períodos anteriores**"
   ]
  },
  {
   "cell_type": "markdown",
   "id": "c810cdc9",
   "metadata": {},
   "source": [
    "**Vamos a crear ahora los conjuntos de entrenamiento y de testeo**"
   ]
  },
  {
   "cell_type": "code",
   "execution_count": 8,
   "id": "ec5014bb",
   "metadata": {},
   "outputs": [
    {
     "data": {
      "text/html": [
       "<div>\n",
       "<style scoped>\n",
       "    .dataframe tbody tr th:only-of-type {\n",
       "        vertical-align: middle;\n",
       "    }\n",
       "\n",
       "    .dataframe tbody tr th {\n",
       "        vertical-align: top;\n",
       "    }\n",
       "\n",
       "    .dataframe thead th {\n",
       "        text-align: right;\n",
       "    }\n",
       "</style>\n",
       "<table border=\"1\" class=\"dataframe\">\n",
       "  <thead>\n",
       "    <tr style=\"text-align: right;\">\n",
       "      <th></th>\n",
       "      <th>Close</th>\n",
       "    </tr>\n",
       "    <tr>\n",
       "      <th>timestamp</th>\n",
       "      <th></th>\n",
       "    </tr>\n",
       "  </thead>\n",
       "  <tbody>\n",
       "    <tr>\n",
       "      <th>2021-09-14 03:21:00</th>\n",
       "      <td>45298.868508</td>\n",
       "    </tr>\n",
       "    <tr>\n",
       "      <th>2021-09-14 03:22:00</th>\n",
       "      <td>45348.035714</td>\n",
       "    </tr>\n",
       "    <tr>\n",
       "      <th>2021-09-14 03:23:00</th>\n",
       "      <td>45333.891429</td>\n",
       "    </tr>\n",
       "    <tr>\n",
       "      <th>2021-09-14 03:24:00</th>\n",
       "      <td>45277.501429</td>\n",
       "    </tr>\n",
       "    <tr>\n",
       "      <th>2021-09-14 03:25:00</th>\n",
       "      <td>45269.988333</td>\n",
       "    </tr>\n",
       "    <tr>\n",
       "      <th>...</th>\n",
       "      <td>...</td>\n",
       "    </tr>\n",
       "    <tr>\n",
       "      <th>2021-09-18 23:56:00</th>\n",
       "      <td>47880.115823</td>\n",
       "    </tr>\n",
       "    <tr>\n",
       "      <th>2021-09-18 23:57:00</th>\n",
       "      <td>47910.905714</td>\n",
       "    </tr>\n",
       "    <tr>\n",
       "      <th>2021-09-18 23:58:00</th>\n",
       "      <td>47901.362857</td>\n",
       "    </tr>\n",
       "    <tr>\n",
       "      <th>2021-09-18 23:59:00</th>\n",
       "      <td>47888.627143</td>\n",
       "    </tr>\n",
       "    <tr>\n",
       "      <th>2021-09-19 00:00:00</th>\n",
       "      <td>47861.007143</td>\n",
       "    </tr>\n",
       "  </tbody>\n",
       "</table>\n",
       "<p>7000 rows × 1 columns</p>\n",
       "</div>"
      ],
      "text/plain": [
       "                            Close\n",
       "timestamp                        \n",
       "2021-09-14 03:21:00  45298.868508\n",
       "2021-09-14 03:22:00  45348.035714\n",
       "2021-09-14 03:23:00  45333.891429\n",
       "2021-09-14 03:24:00  45277.501429\n",
       "2021-09-14 03:25:00  45269.988333\n",
       "...                           ...\n",
       "2021-09-18 23:56:00  47880.115823\n",
       "2021-09-18 23:57:00  47910.905714\n",
       "2021-09-18 23:58:00  47901.362857\n",
       "2021-09-18 23:59:00  47888.627143\n",
       "2021-09-19 00:00:00  47861.007143\n",
       "\n",
       "[7000 rows x 1 columns]"
      ]
     },
     "execution_count": 8,
     "metadata": {},
     "output_type": "execute_result"
    }
   ],
   "source": [
    "train_end_date = datetime(2021, 9, 19)\n",
    "test_start_date = train_end_date + timedelta(seconds=60)\n",
    "train_data = btc[:train_end_date]\n",
    "test_data = btc[test_start_date:]\n",
    "train_data"
   ]
  },
  {
   "cell_type": "markdown",
   "id": "5ee0746f",
   "metadata": {},
   "source": [
    "**Vamos a crear el modelo de auto regresión y entrenarlo**"
   ]
  },
  {
   "cell_type": "code",
   "execution_count": 9,
   "id": "794c5be0",
   "metadata": {},
   "outputs": [
    {
     "name": "stdout",
     "output_type": "stream",
     "text": [
      "Model Successfully Fitted!. Time spent: 16.819249153137207\n"
     ]
    }
   ],
   "source": [
    "model = ARIMA(train_data, order=(3, 0, 0))\n",
    "start = time()\n",
    "fitted_model = model.fit()\n",
    "end = time()\n",
    "print(f'Model Successfully Fitted!. Time spent: {end-start}')"
   ]
  },
  {
   "cell_type": "code",
   "execution_count": 10,
   "id": "57dd64cd",
   "metadata": {},
   "outputs": [
    {
     "data": {
      "text/html": [
       "<table class=\"simpletable\">\n",
       "<caption>SARIMAX Results</caption>\n",
       "<tr>\n",
       "  <th>Dep. Variable:</th>         <td>Close</td>      <th>  No. Observations:  </th>    <td>7000</td>   \n",
       "</tr>\n",
       "<tr>\n",
       "  <th>Model:</th>            <td>ARIMA(15, 0, 0)</td> <th>  Log Likelihood     </th> <td>-33530.437</td>\n",
       "</tr>\n",
       "<tr>\n",
       "  <th>Date:</th>            <td>Wed, 24 Nov 2021</td> <th>  AIC                </th>  <td>67094.874</td>\n",
       "</tr>\n",
       "<tr>\n",
       "  <th>Time:</th>                <td>13:05:17</td>     <th>  BIC                </th>  <td>67211.386</td>\n",
       "</tr>\n",
       "<tr>\n",
       "  <th>Sample:</th>             <td>09-14-2021</td>    <th>  HQIC               </th>  <td>67135.022</td>\n",
       "</tr>\n",
       "<tr>\n",
       "  <th></th>                   <td>- 09-19-2021</td>   <th>                     </th>      <td> </td>    \n",
       "</tr>\n",
       "<tr>\n",
       "  <th>Covariance Type:</th>        <td>opg</td>       <th>                     </th>      <td> </td>    \n",
       "</tr>\n",
       "</table>\n",
       "<table class=\"simpletable\">\n",
       "<tr>\n",
       "     <td></td>       <th>coef</th>     <th>std err</th>      <th>z</th>      <th>P>|z|</th>  <th>[0.025</th>    <th>0.975]</th>  \n",
       "</tr>\n",
       "<tr>\n",
       "  <th>const</th>  <td> 4.748e+04</td> <td>  887.081</td> <td>   53.526</td> <td> 0.000</td> <td> 4.57e+04</td> <td> 4.92e+04</td>\n",
       "</tr>\n",
       "<tr>\n",
       "  <th>ar.L1</th>  <td>    0.9986</td> <td>    0.007</td> <td>  144.701</td> <td> 0.000</td> <td>    0.985</td> <td>    1.012</td>\n",
       "</tr>\n",
       "<tr>\n",
       "  <th>ar.L2</th>  <td>    0.0245</td> <td>    0.010</td> <td>    2.458</td> <td> 0.014</td> <td>    0.005</td> <td>    0.044</td>\n",
       "</tr>\n",
       "<tr>\n",
       "  <th>ar.L3</th>  <td>   -0.0124</td> <td>    0.011</td> <td>   -1.119</td> <td> 0.263</td> <td>   -0.034</td> <td>    0.009</td>\n",
       "</tr>\n",
       "<tr>\n",
       "  <th>ar.L4</th>  <td>   -0.0255</td> <td>    0.014</td> <td>   -1.861</td> <td> 0.063</td> <td>   -0.052</td> <td>    0.001</td>\n",
       "</tr>\n",
       "<tr>\n",
       "  <th>ar.L5</th>  <td>    0.0508</td> <td>    0.011</td> <td>    4.614</td> <td> 0.000</td> <td>    0.029</td> <td>    0.072</td>\n",
       "</tr>\n",
       "<tr>\n",
       "  <th>ar.L6</th>  <td>   -0.0650</td> <td>    0.011</td> <td>   -5.886</td> <td> 0.000</td> <td>   -0.087</td> <td>   -0.043</td>\n",
       "</tr>\n",
       "<tr>\n",
       "  <th>ar.L7</th>  <td>   -0.0015</td> <td>    0.013</td> <td>   -0.110</td> <td> 0.913</td> <td>   -0.028</td> <td>    0.025</td>\n",
       "</tr>\n",
       "<tr>\n",
       "  <th>ar.L8</th>  <td>    0.0285</td> <td>    0.015</td> <td>    1.935</td> <td> 0.053</td> <td>   -0.000</td> <td>    0.057</td>\n",
       "</tr>\n",
       "<tr>\n",
       "  <th>ar.L9</th>  <td>   -0.0183</td> <td>    0.015</td> <td>   -1.226</td> <td> 0.220</td> <td>   -0.048</td> <td>    0.011</td>\n",
       "</tr>\n",
       "<tr>\n",
       "  <th>ar.L10</th> <td>    0.0698</td> <td>    0.015</td> <td>    4.689</td> <td> 0.000</td> <td>    0.041</td> <td>    0.099</td>\n",
       "</tr>\n",
       "<tr>\n",
       "  <th>ar.L11</th> <td>   -0.0422</td> <td>    0.013</td> <td>   -3.135</td> <td> 0.002</td> <td>   -0.069</td> <td>   -0.016</td>\n",
       "</tr>\n",
       "<tr>\n",
       "  <th>ar.L12</th> <td>   -0.0372</td> <td>    0.013</td> <td>   -2.885</td> <td> 0.004</td> <td>   -0.063</td> <td>   -0.012</td>\n",
       "</tr>\n",
       "<tr>\n",
       "  <th>ar.L13</th> <td>    0.0111</td> <td>    0.015</td> <td>    0.748</td> <td> 0.455</td> <td>   -0.018</td> <td>    0.040</td>\n",
       "</tr>\n",
       "<tr>\n",
       "  <th>ar.L14</th> <td>   -0.0056</td> <td>    0.015</td> <td>   -0.362</td> <td> 0.717</td> <td>   -0.036</td> <td>    0.025</td>\n",
       "</tr>\n",
       "<tr>\n",
       "  <th>ar.L15</th> <td>    0.0240</td> <td>    0.010</td> <td>    2.415</td> <td> 0.016</td> <td>    0.005</td> <td>    0.044</td>\n",
       "</tr>\n",
       "<tr>\n",
       "  <th>sigma2</th> <td>  846.5389</td> <td>    5.897</td> <td>  143.565</td> <td> 0.000</td> <td>  834.982</td> <td>  858.096</td>\n",
       "</tr>\n",
       "</table>\n",
       "<table class=\"simpletable\">\n",
       "<tr>\n",
       "  <th>Ljung-Box (L1) (Q):</th>     <td>0.00</td> <th>  Jarque-Bera (JB):  </th> <td>53115.13</td>\n",
       "</tr>\n",
       "<tr>\n",
       "  <th>Prob(Q):</th>                <td>0.98</td> <th>  Prob(JB):          </th>   <td>0.00</td>  \n",
       "</tr>\n",
       "<tr>\n",
       "  <th>Heteroskedasticity (H):</th> <td>0.77</td> <th>  Skew:              </th>   <td>0.74</td>  \n",
       "</tr>\n",
       "<tr>\n",
       "  <th>Prob(H) (two-sided):</th>    <td>0.00</td> <th>  Kurtosis:          </th>   <td>16.41</td> \n",
       "</tr>\n",
       "</table><br/><br/>Warnings:<br/>[1] Covariance matrix calculated using the outer product of gradients (complex-step).<br/>[2] Covariance matrix is singular or near-singular, with condition number 2.92e+14. Standard errors may be unstable."
      ],
      "text/plain": [
       "<class 'statsmodels.iolib.summary.Summary'>\n",
       "\"\"\"\n",
       "                               SARIMAX Results                                \n",
       "==============================================================================\n",
       "Dep. Variable:                  Close   No. Observations:                 7000\n",
       "Model:                ARIMA(15, 0, 0)   Log Likelihood              -33530.437\n",
       "Date:                Wed, 24 Nov 2021   AIC                          67094.874\n",
       "Time:                        13:05:17   BIC                          67211.386\n",
       "Sample:                    09-14-2021   HQIC                         67135.022\n",
       "                         - 09-19-2021                                         \n",
       "Covariance Type:                  opg                                         \n",
       "==============================================================================\n",
       "                 coef    std err          z      P>|z|      [0.025      0.975]\n",
       "------------------------------------------------------------------------------\n",
       "const       4.748e+04    887.081     53.526      0.000    4.57e+04    4.92e+04\n",
       "ar.L1          0.9986      0.007    144.701      0.000       0.985       1.012\n",
       "ar.L2          0.0245      0.010      2.458      0.014       0.005       0.044\n",
       "ar.L3         -0.0124      0.011     -1.119      0.263      -0.034       0.009\n",
       "ar.L4         -0.0255      0.014     -1.861      0.063      -0.052       0.001\n",
       "ar.L5          0.0508      0.011      4.614      0.000       0.029       0.072\n",
       "ar.L6         -0.0650      0.011     -5.886      0.000      -0.087      -0.043\n",
       "ar.L7         -0.0015      0.013     -0.110      0.913      -0.028       0.025\n",
       "ar.L8          0.0285      0.015      1.935      0.053      -0.000       0.057\n",
       "ar.L9         -0.0183      0.015     -1.226      0.220      -0.048       0.011\n",
       "ar.L10         0.0698      0.015      4.689      0.000       0.041       0.099\n",
       "ar.L11        -0.0422      0.013     -3.135      0.002      -0.069      -0.016\n",
       "ar.L12        -0.0372      0.013     -2.885      0.004      -0.063      -0.012\n",
       "ar.L13         0.0111      0.015      0.748      0.455      -0.018       0.040\n",
       "ar.L14        -0.0056      0.015     -0.362      0.717      -0.036       0.025\n",
       "ar.L15         0.0240      0.010      2.415      0.016       0.005       0.044\n",
       "sigma2       846.5389      5.897    143.565      0.000     834.982     858.096\n",
       "===================================================================================\n",
       "Ljung-Box (L1) (Q):                   0.00   Jarque-Bera (JB):             53115.13\n",
       "Prob(Q):                              0.98   Prob(JB):                         0.00\n",
       "Heteroskedasticity (H):               0.77   Skew:                             0.74\n",
       "Prob(H) (two-sided):                  0.00   Kurtosis:                        16.41\n",
       "===================================================================================\n",
       "\n",
       "Warnings:\n",
       "[1] Covariance matrix calculated using the outer product of gradients (complex-step).\n",
       "[2] Covariance matrix is singular or near-singular, with condition number 2.92e+14. Standard errors may be unstable.\n",
       "\"\"\""
      ]
     },
     "execution_count": 10,
     "metadata": {},
     "output_type": "execute_result"
    }
   ],
   "source": [
    "fitted_model.summary()"
   ]
  },
  {
   "cell_type": "markdown",
   "id": "156834d2",
   "metadata": {},
   "source": [
    "**Vamos a realizar una predicción del modelo para las primeras 5 entradas del dataset de testeo, esto sería como predecir el precio del bitcoin los 5 minutos siguientes**"
   ]
  },
  {
   "cell_type": "code",
   "execution_count": 11,
   "id": "2616273a",
   "metadata": {},
   "outputs": [
    {
     "name": "stdout",
     "output_type": "stream",
     "text": [
      "We will do prediction from 2021-09-19 00:01:00 to 2021-09-19 00:20:00\n"
     ]
    }
   ],
   "source": [
    "prediction_start_date = test_data.index[0]\n",
    "prediction_end_date = test_data.index[19]\n",
    "print(f\"We will do prediction from {prediction_start_date} to {prediction_end_date}\")"
   ]
  },
  {
   "cell_type": "code",
   "execution_count": 12,
   "id": "33cf1a62",
   "metadata": {},
   "outputs": [],
   "source": [
    "predictions = fitted_model.predict(start=prediction_start_date, end=prediction_end_date)\n",
    "residuals = test_data['Close'][:20] - predictions"
   ]
  },
  {
   "cell_type": "code",
   "execution_count": 13,
   "id": "746a64f8",
   "metadata": {},
   "outputs": [
    {
     "data": {
      "text/plain": [
       "Text(0.5, 1.0, 'Residuos del Modelo ARMA')"
      ]
     },
     "execution_count": 13,
     "metadata": {},
     "output_type": "execute_result"
    },
    {
     "data": {
      "image/png": "[encoded data removed]",
      "text/plain": [
       "<Figure size 864x576 with 1 Axes>"
      ]
     },
     "metadata": {
      "needs_background": "light"
     },
     "output_type": "display_data"
    }
   ],
   "source": [
    "fig = plt.figure(figsize=(12, 8))\n",
    "plt.plot(residuals)\n",
    "plt.ylabel(\"Error\")\n",
    "plt.title(\"Residuos del Modelo ARMA\")"
   ]
  },
  {
   "cell_type": "markdown",
   "id": "2549cc06",
   "metadata": {},
   "source": [
    "**Podemos observar que el error va aumentando a medida que nos alejamos en el tiempo de los datos de entrenamiento, desde un error menor que 10 (dólares) para el minuto 1, hasta un error de más de 80 en el minuto 5**"
   ]
  },
  {
   "cell_type": "markdown",
   "id": "410d308f",
   "metadata": {},
   "source": [
    "**Vamos ahora a plotear el valor real del bitcoin junto con las predicciones que hemos hecho:**"
   ]
  },
  {
   "cell_type": "code",
   "execution_count": 14,
   "id": "77b811f5",
   "metadata": {},
   "outputs": [
    {
     "data": {
      "text/plain": [
       "<matplotlib.legend.Legend at 0x7fcb59894a90>"
      ]
     },
     "execution_count": 14,
     "metadata": {},
     "output_type": "execute_result"
    },
    {
     "data": {
      "image/png": "[encoded data removed]",
      "text/plain": [
       "<Figure size 720x432 with 1 Axes>"
      ]
     },
     "metadata": {
      "needs_background": "light"
     },
     "output_type": "display_data"
    }
   ],
   "source": [
    "plt.figure(figsize=(10,6))\n",
    "plt.plot(test_data[:20])\n",
    "plt.plot(predictions)\n",
    "plt.legend(('Data', 'Predictions'), fontsize=16)"
   ]
  },
  {
   "cell_type": "markdown",
   "id": "bc52491a",
   "metadata": {},
   "source": [
    "**Podemos ver que nuestro modelo no captura bien la tendencia alcista del los datos**"
   ]
  },
  {
   "cell_type": "markdown",
   "id": "f8eb208d",
   "metadata": {},
   "source": [
    "**Para entender de forma más precisa cuánto se equivoca nuestro modelo, podemos calcular el porcentaje que representan los residuos sobre el valor real de los datos:**"
   ]
  },
  {
   "cell_type": "code",
   "execution_count": 15,
   "id": "38d5290c",
   "metadata": {},
   "outputs": [
    {
     "name": "stdout",
     "output_type": "stream",
     "text": [
      "De media nos desviamos del valor real un 0.0026% con las predicciones realizadas\n"
     ]
    }
   ],
   "source": [
    "mean_absolute_percent_error = round(np.mean(abs(residuals/test_data['Close'][:20])), 4)\n",
    "print(f\"De media nos desviamos del valor real un {mean_absolute_percent_error}% con las predicciones realizadas\")"
   ]
  }
 ],
 "metadata": {
  "kernelspec": {
   "display_name": "Python 3 (ipykernel)",
   "language": "python",
   "name": "python3"
  },
  "language_info": {
   "codemirror_mode": {
    "name": "ipython",
    "version": 3
   },
   "file_extension": ".py",
   "mimetype": "text/x-python",
   "name": "python",
   "nbconvert_exporter": "python",
   "pygments_lexer": "ipython3",
   "version": "3.8.10"
  }
 },
 "nbformat": 4,
 "nbformat_minor": 5
}
