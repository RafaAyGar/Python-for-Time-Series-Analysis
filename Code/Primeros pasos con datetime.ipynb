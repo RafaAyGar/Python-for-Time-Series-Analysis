{
 "cells": [
  {
   "cell_type": "markdown",
   "id": "d176ea47",
   "metadata": {},
   "source": [
    "# Trabajando con la clase datetime"
   ]
  },
  {
   "cell_type": "code",
   "execution_count": 1,
   "id": "dbd621e0",
   "metadata": {},
   "outputs": [],
   "source": [
    "from datetime import datetime"
   ]
  },
  {
   "cell_type": "code",
   "execution_count": 3,
   "id": "a506500d",
   "metadata": {},
   "outputs": [
    {
     "data": {
      "text/plain": [
       "datetime.datetime(2021, 7, 29, 0, 0)"
      ]
     },
     "execution_count": 3,
     "metadata": {},
     "output_type": "execute_result"
    }
   ],
   "source": [
    "year = 2021\n",
    "month = 7\n",
    "day = 29\n",
    "\n",
    "my_date = datetime(year, month, day)\n",
    "my_date"
   ]
  },
  {
   "cell_type": "code",
   "execution_count": 7,
   "id": "1966a221",
   "metadata": {},
   "outputs": [
    {
     "name": "stdout",
     "output_type": "stream",
     "text": [
      "Year = 2021\n",
      "Minuto = 0001-01-01 00:00:00\n"
     ]
    },
    {
     "data": {
      "text/plain": [
       "datetime.datetime(2021, 7, 29, 20, 35, 15)"
      ]
     },
     "execution_count": 7,
     "metadata": {},
     "output_type": "execute_result"
    }
   ],
   "source": [
    "hour = 20\n",
    "minit = 35\n",
    "second = 15\n",
    "\n",
    "my_date_2 = datetime(year, month, day, hour, minit, second)\n",
    "print(f'Year = {my_date_2.year}')\n",
    "print(f'Minuto = {my_date_2.min}')\n",
    "my_date_2"
   ]
  },
  {
   "cell_type": "markdown",
   "id": "3c5f5a6a",
   "metadata": {},
   "source": [
    "# Creando array de datetimes con Numpy"
   ]
  },
  {
   "cell_type": "code",
   "execution_count": 11,
   "id": "e18d88dd",
   "metadata": {},
   "outputs": [
    {
     "data": {
      "text/plain": [
       "array(['2020-03-05', '2021-08-17', '2019-12-25'], dtype='datetime64[D]')"
      ]
     },
     "execution_count": 11,
     "metadata": {},
     "output_type": "execute_result"
    }
   ],
   "source": [
    "import numpy as np\n",
    "\n",
    "np.array(['2020-03-05', '2021-08-17', '2019-12-25'], dtype='datetime64')"
   ]
  },
  {
   "cell_type": "markdown",
   "id": "e2d68779",
   "metadata": {},
   "source": [
    "### Podemos quedarnos sólo con la parte de la fecha que nos interesa"
   ]
  },
  {
   "cell_type": "markdown",
   "id": "1ff68a91",
   "metadata": {},
   "source": [
    "**Para quedarnos con el año y el mes**"
   ]
  },
  {
   "cell_type": "code",
   "execution_count": 13,
   "id": "34116ade",
   "metadata": {},
   "outputs": [
    {
     "data": {
      "text/plain": [
       "array(['2020-03', '2021-08', '2019-12'], dtype='datetime64[M]')"
      ]
     },
     "execution_count": 13,
     "metadata": {},
     "output_type": "execute_result"
    }
   ],
   "source": [
    "np.array(['2020-03-05', '2021-08-17', '2019-12-25'], dtype='datetime64[M]')"
   ]
  },
  {
   "cell_type": "markdown",
   "id": "9f7760f5",
   "metadata": {},
   "source": [
    "**Para quedarnos sólo con el año**"
   ]
  },
  {
   "cell_type": "code",
   "execution_count": 14,
   "id": "107b5d77",
   "metadata": {},
   "outputs": [
    {
     "data": {
      "text/plain": [
       "array(['2020', '2021', '2019'], dtype='datetime64[Y]')"
      ]
     },
     "execution_count": 14,
     "metadata": {},
     "output_type": "execute_result"
    }
   ],
   "source": [
    "np.array(['2020-03-05', '2021-08-17', '2019-12-25'], dtype='datetime64[Y]')"
   ]
  },
  {
   "cell_type": "markdown",
   "id": "f2088cec",
   "metadata": {},
   "source": [
    "# Utilizar el arange de numpy para crear un conjunto de fechas a partir de una fecha inicial y una final"
   ]
  },
  {
   "cell_type": "markdown",
   "id": "7646bea8",
   "metadata": {},
   "source": [
    "**Vamos a crear un set de fechas que vayan desde el 10 de enero de 2021 hasta el 25 de agosto de 2021, saltando de 5 en 5 días**"
   ]
  },
  {
   "cell_type": "code",
   "execution_count": 16,
   "id": "669a1d98",
   "metadata": {},
   "outputs": [
    {
     "data": {
      "text/plain": [
       "array(['2021-01-10', '2021-01-15', '2021-01-20', '2021-01-25',\n",
       "       '2021-01-30', '2021-02-04', '2021-02-09', '2021-02-14',\n",
       "       '2021-02-19', '2021-02-24', '2021-03-01', '2021-03-06',\n",
       "       '2021-03-11', '2021-03-16', '2021-03-21', '2021-03-26',\n",
       "       '2021-03-31', '2021-04-05', '2021-04-10', '2021-04-15',\n",
       "       '2021-04-20', '2021-04-25', '2021-04-30', '2021-05-05',\n",
       "       '2021-05-10', '2021-05-15', '2021-05-20', '2021-05-25',\n",
       "       '2021-05-30', '2021-06-04', '2021-06-09', '2021-06-14',\n",
       "       '2021-06-19', '2021-06-24', '2021-06-29', '2021-07-04',\n",
       "       '2021-07-09', '2021-07-14', '2021-07-19', '2021-07-24',\n",
       "       '2021-07-29', '2021-08-03', '2021-08-08', '2021-08-13',\n",
       "       '2021-08-18', '2021-08-23'], dtype='datetime64[D]')"
      ]
     },
     "execution_count": 16,
     "metadata": {},
     "output_type": "execute_result"
    }
   ],
   "source": [
    "initialDate = \"2021-01-10\"\n",
    "finalDate = \"2021-08-25\"\n",
    "np.arange(initialDate, finalDate, 5, dtype='datetime64[D]')"
   ]
  },
  {
   "cell_type": "markdown",
   "id": "99df668c",
   "metadata": {},
   "source": [
    "**Ahora vamos a crear un set que incluya todos los meses desde el 2015 hasta el 2019**"
   ]
  },
  {
   "cell_type": "code",
   "execution_count": 17,
   "id": "dba212cc",
   "metadata": {},
   "outputs": [
    {
     "data": {
      "text/plain": [
       "array(['2015-01', '2015-02', '2015-03', '2015-04', '2015-05', '2015-06',\n",
       "       '2015-07', '2015-08', '2015-09', '2015-10', '2015-11', '2015-12',\n",
       "       '2016-01', '2016-02', '2016-03', '2016-04', '2016-05', '2016-06',\n",
       "       '2016-07', '2016-08', '2016-09', '2016-10', '2016-11', '2016-12',\n",
       "       '2017-01', '2017-02', '2017-03', '2017-04', '2017-05', '2017-06',\n",
       "       '2017-07', '2017-08', '2017-09', '2017-10', '2017-11', '2017-12',\n",
       "       '2018-01', '2018-02', '2018-03', '2018-04', '2018-05', '2018-06',\n",
       "       '2018-07', '2018-08', '2018-09', '2018-10', '2018-11', '2018-12'],\n",
       "      dtype='datetime64[M]')"
      ]
     },
     "execution_count": 17,
     "metadata": {},
     "output_type": "execute_result"
    }
   ],
   "source": [
    "np.arange('2015', '2019', dtype='datetime64[M]')"
   ]
  }
 ],
 "metadata": {
  "kernelspec": {
   "display_name": "Python 3 (ipykernel)",
   "language": "python",
   "name": "python3"
  },
  "language_info": {
   "codemirror_mode": {
    "name": "ipython",
    "version": 3
   },
   "file_extension": ".py",
   "mimetype": "text/x-python",
   "name": "python",
   "nbconvert_exporter": "python",
   "pygments_lexer": "ipython3",
   "version": "3.9.7"
  }
 },
 "nbformat": 4,
 "nbformat_minor": 5
}
